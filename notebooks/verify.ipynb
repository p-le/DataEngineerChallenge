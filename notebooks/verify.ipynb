{
 "cells": [
  {
   "cell_type": "code",
   "execution_count": 2,
   "id": "dd0f7f8f",
   "metadata": {},
   "outputs": [],
   "source": [
    "import gzip"
   ]
  },
  {
   "cell_type": "code",
   "execution_count": 16,
   "id": "1d7fe1ae",
   "metadata": {},
   "outputs": [
    {
     "name": "stdout",
     "output_type": "stream",
     "text": [
      "2015-07-22T16:10:35.902989Z\n",
      "2015-07-22T16:11:35.876541Z\n"
     ]
    }
   ],
   "source": [
    "with gzip.open(\"/var/tmp/data/2015_07_22_mktplace_shop_web_log_sample.log.gz\", \"r\") as fin:        \n",
    "    for line in fin:\n",
    "        parts = line.decode().split(' ')\n",
    "        client_address = parts[2].split(':')[0]\n",
    "        if client_address == '106.76.227.105':\n",
    "            print(parts[0])"
   ]
  },
  {
   "cell_type": "code",
   "execution_count": null,
   "id": "4fdac2b5",
   "metadata": {},
   "outputs": [],
   "source": []
  }
 ],
 "metadata": {
  "kernelspec": {
   "display_name": "Python 3",
   "language": "python",
   "name": "python3"
  },
  "language_info": {
   "codemirror_mode": {
    "name": "ipython",
    "version": 3
   },
   "file_extension": ".py",
   "mimetype": "text/x-python",
   "name": "python",
   "nbconvert_exporter": "python",
   "pygments_lexer": "ipython3",
   "version": "3.8.8"
  }
 },
 "nbformat": 4,
 "nbformat_minor": 5
}
